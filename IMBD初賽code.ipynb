{
  "nbformat": 4,
  "nbformat_minor": 0,
  "metadata": {
    "colab": {
      "provenance": [],
      "collapsed_sections": [
        "UrEr3-hgONFp",
        "3Lo5cUZ4y9KX",
        "jaN2KTDiwYZq",
        "YlX_BX6VFi9t"
      ],
      "include_colab_link": true
    },
    "kernelspec": {
      "name": "python3",
      "display_name": "Python 3"
    },
    "language_info": {
      "name": "python"
    },
    "gpuClass": "standard"
  },
  "cells": [
    {
      "cell_type": "markdown",
      "metadata": {
        "id": "view-in-github",
        "colab_type": "text"
      },
      "source": [
        "<a href=\"https://colab.research.google.com/github/hj10330149/Leetcode-Practice/blob/main/IMBD%E5%88%9D%E8%B3%BDcode.ipynb\" target=\"_parent\"><img src=\"https://colab.research.google.com/assets/colab-badge.svg\" alt=\"Open In Colab\"/></a>"
      ]
    },
    {
      "cell_type": "markdown",
      "source": [
        "# 資料處理"
      ],
      "metadata": {
        "id": "UrEr3-hgONFp"
      }
    },
    {
      "cell_type": "markdown",
      "source": [
        "下載 auto-sklearn & lightgbm 套件"
      ],
      "metadata": {
        "id": "vGVLEN7lpbD3"
      }
    },
    {
      "cell_type": "code",
      "execution_count": null,
      "metadata": {
        "id": "kX6TTfX1GOy0"
      },
      "outputs": [],
      "source": [
        "pip install auto-sklearn"
      ]
    },
    {
      "cell_type": "code",
      "source": [
        "pip install lightgbm"
      ],
      "metadata": {
        "id": "IEhr1PUiHKjr"
      },
      "execution_count": null,
      "outputs": []
    },
    {
      "cell_type": "markdown",
      "source": [
        "載入Pandas, Numpy, autosklearn, lightgbm 以及 sklearn 的 metrics, KMeans, GridSearchCV 套件"
      ],
      "metadata": {
        "id": "U6o34F_40X4n"
      }
    },
    {
      "cell_type": "code",
      "source": [
        "import pandas as pd\n",
        "import numpy as np\n",
        "import autosklearn.regression\n",
        "import lightgbm as lgbm\n",
        "import sklearn.metrics\n",
        "from sklearn.cluster import KMeans\n",
        "from sklearn.model_selection import GridSearchCV"
      ],
      "metadata": {
        "id": "hEX7rUD-2CBI"
      },
      "execution_count": null,
      "outputs": []
    },
    {
      "cell_type": "markdown",
      "source": [
        "讀取訓練資料 df_train、 測試資料 df_test"
      ],
      "metadata": {
        "id": "lic4Omnhypcn"
      }
    },
    {
      "cell_type": "code",
      "source": [
        "df_train=pd.read_excel('2022-train-v2.xlsx')\n",
        "df_test=pd.read_excel('2022-test-v1.xlsx')"
      ],
      "metadata": {
        "id": "_SQo01qDRB1W"
      },
      "execution_count": null,
      "outputs": []
    },
    {
      "cell_type": "markdown",
      "source": [
        "以0取代資料中的遺失值NA，另外將訓練資料中的 feature (製程中感測器量測的數據) 跟 output (工件噴漆的膜厚) 分出來"
      ],
      "metadata": {
        "id": "CTF6WYjJ2Cek"
      }
    },
    {
      "cell_type": "code",
      "source": [
        "# 遺失值補0\n",
        "df_train=df_train.fillna(0)\n",
        "df_test=df_test.fillna(0)\n",
        "# 將訓練資料中的 feature 和 output 切分出來\n",
        "x = df_train.iloc[:,6:132]\n",
        "y = df_train.iloc[:,0:6]\n",
        "# 對feature做標準化\n",
        "mean = x.mean()\n",
        "sd = x.std()\n",
        "train_x_scaled = (x - mean)/sd\n",
        "test_x_scaled = (df_test - mean)/sd\n",
        "train_x_scaled.reset_index(inplace = True)\n",
        "test_x_scaled.reset_index(inplace = True)"
      ],
      "metadata": {
        "id": "J_cmWbZN12iu"
      },
      "execution_count": null,
      "outputs": []
    },
    {
      "cell_type": "markdown",
      "source": [
        "# 建立 autoML 模型"
      ],
      "metadata": {
        "id": "m4jUa322n_Rm"
      }
    },
    {
      "cell_type": "code",
      "source": [
        "def automl(x_scaled,y,clusters,random_state):\n",
        "  # 分群\n",
        "  globals()['kmeans_'+str(clusters)]=KMeans(n_clusters=clusters,random_state=random_state).fit(x_scaled.iloc[:,1:])\n",
        "  label=pd.DataFrame(globals()['kmeans_'+str(clusters)].labels_)\n",
        "  label.columns=['label']\n",
        "  x_scaled=pd.concat([x_scaled,label],axis=1)\n",
        "  data=pd.concat([y,x_scaled],axis=1) # 有Y有index有X有label\n",
        "\n",
        "  # 各群建模\n",
        "  for c in range(1,clusters+1): # 先拆成各群\n",
        "    globals()['group_'+str(c)]=data.loc[data['label']==c-1]\n",
        "    globals()['group_'+str(c)]=(globals()['group_'+str(c)]).drop(['label'],axis=1) # 各群Y和X(包含index)\n",
        "    X_train=globals()['group_'+str(c)].iloc[:,7:] # 不包含index\n",
        "    Y_train=globals()['group_'+str(c)].iloc[:,0:6]\n",
        "    for i in range(0,6): # 再拆各個Y，並對每個Y建模\n",
        "      globals()['automl_Y'+str(i+1)+'_Cluster_'+str(c)]=autosklearn.regression.AutoSklearnRegressor(time_left_for_this_task=120,per_run_time_limit=30) #建模\n",
        "      globals()['automl_Y'+str(i+1)+'_Cluster_'+str(c)].fit(X_train,Y_train.iloc[:,i]) # 用X_train, Y_train去訓練模型，調整模型參數\n",
        "      globals()['train_predictions_Y'+str(i+1)+'_Cluster_'+str(c)]=globals()['automl_Y'+str(i+1)+'_Cluster_'+str(c)].predict(X_train) # 用X_train資料去預測Y\n",
        "\n",
        "  # 合併各群的X\n",
        "  x=pd.DataFrame()\n",
        "  for c in range(1,clusters+1):\n",
        "    x=pd.concat([x,globals()['group_'+str(c)].iloc[:,6:]],axis=0) # 合併所有群的X(包含index)\n",
        "\n",
        "  # 合併各群的預測值Y\n",
        "  df_train_predict=pd.DataFrame()\n",
        "  for i in range(0,6):\n",
        "    globals()['(Train_prediction)AutoML_Y'+str(i+1)]=pd.DataFrame()\n",
        "    for c in range(1,clusters+1):\n",
        "      globals()['(Train_prediction)AutoML_Y'+str(i+1)]=pd.concat([globals()['(Train_prediction)AutoML_Y'+str(i+1)], pd.DataFrame(globals()['train_predictions_Y'+str(i+1)+'_Cluster_'+str(c)])],axis=0)\n",
        "    df_train_predict = pd.concat([df_train_predict, globals()['(Train_prediction)AutoML_Y'+str(i+1)]], axis=1)\n",
        "  df_train_predict.columns = ['Y1', 'Y2', 'Y3', 'Y4', 'Y5', 'Y6']\n",
        "\n",
        "  # 合併預測值Y與X\n",
        "  df_train_predict.reset_index(drop=True, inplace = True)\n",
        "  x.reset_index(drop=True, inplace = True)\n",
        "  result = pd.concat([df_train_predict, x], axis=1)\n",
        "  train_prediction_result = result.sort_values(by=['index']).iloc[:, :6]\n",
        "  return train_prediction_result"
      ],
      "metadata": {
        "id": "Q4Rl-VFQw5Xm"
      },
      "execution_count": null,
      "outputs": []
    },
    {
      "cell_type": "code",
      "source": [
        "train_prediction_result_automl_c1=automl(train_x_scaled,y,1,123)"
      ],
      "metadata": {
        "id": "P12cL8MYSzlX"
      },
      "execution_count": null,
      "outputs": []
    },
    {
      "cell_type": "code",
      "source": [
        "def auto_test(x_scaled,clusters):\n",
        "  # 分群\n",
        "  label=pd.DataFrame(globals()['kmeans_'+str(clusters)].predict(x_scaled.iloc[:,1:]))\n",
        "  label.columns=['label']\n",
        "  data=pd.concat([x_scaled,label],axis=1)\n",
        "\n",
        "  # 各群預測\n",
        "  for c in range(1,clusters+1): # 先拆成k群\n",
        "    globals()['(test)group_'+str(c)]=data.loc[data['label']==c-1]\n",
        "    globals()['(test)group_'+str(c)]=(globals()['(test)group_'+str(c)]).drop(['label'],axis=1) # 各群的X(包含index)\n",
        "    X_test=globals()['(test)group_'+str(c)].iloc[:,1:] # 不包含index\n",
        "    for i in range(0,6): # 再拆各個Y，並對每個Y預測\n",
        "      globals()['test_predictions_Y'+str(i+1)+'_Cluster_'+str(c)]=globals()['automl_Y'+str(i+1)+'_Cluster_'+str(c)].predict(X_test) # 各群各個Y的fit值\n",
        "\n",
        "  # 合併各群的X\n",
        "  x=pd.DataFrame()\n",
        "  for c in range(1,clusters+1):\n",
        "    x=pd.concat([x,globals()['(test)group_'+str(c)]],axis=0) # 合併所有群的X(包含index)\n",
        "\n",
        "  # 合併各群的預測值Y\n",
        "  df_test_predict=pd.DataFrame()\n",
        "  for i in range(0,6):\n",
        "    globals()['(Test_prediction)AutoML_Y'+str(i+1)]=pd.DataFrame()\n",
        "    for c in range(1,clusters+1):\n",
        "      globals()['(Test_prediction)AutoML_Y'+str(i+1)]=pd.concat([globals()['(Test_prediction)AutoML_Y'+str(i+1)], pd.DataFrame(globals()['test_predictions_Y'+str(i+1)+'_Cluster_'+str(c)])],axis=0)\n",
        "    df_test_predict = pd.concat([df_test_predict, globals()['(Test_prediction)AutoML_Y'+str(i+1)]], axis=1)\n",
        "  df_test_predict.columns = ['Y1', 'Y2', 'Y3', 'Y4', 'Y5', 'Y6']\n",
        "\n",
        "  # 合併預測值Y與X\n",
        "  df_test_predict.reset_index(drop=True, inplace = True)\n",
        "  x.reset_index(drop=True, inplace = True)\n",
        "  result = pd.concat([df_test_predict, x], axis=1)\n",
        "  test_prediction_result = result.sort_values(by=['index']).iloc[:, :6]\n",
        "  return test_prediction_result\n"
      ],
      "metadata": {
        "id": "cg5_Hk5UXSxE"
      },
      "execution_count": null,
      "outputs": []
    },
    {
      "cell_type": "code",
      "source": [
        "test_prediction_result_automl_c1=auto_test(test_x_scaled,1)"
      ],
      "metadata": {
        "id": "_BMw8ALlEpf8"
      },
      "execution_count": null,
      "outputs": []
    },
    {
      "cell_type": "markdown",
      "source": [
        "# 建立 LightGBM 模型"
      ],
      "metadata": {
        "id": "3Lo5cUZ4y9KX"
      }
    },
    {
      "cell_type": "code",
      "source": [
        "def lgbm_model(x_scaled, Y, clusters, random_state):\n",
        "  final_model = {}\n",
        "\n",
        "  # 分群\n",
        "  globals()['kmeans_'+str(clusters)]=KMeans(n_clusters=clusters,random_state=random_state).fit(x_scaled.iloc[:, 1:])\n",
        "  label=pd.DataFrame(globals()['kmeans_'+str(clusters)].labels_)\n",
        "  label.columns=['label']\n",
        "  x_scaled=pd.concat([x_scaled,label],axis=1) # axis=1 對行合併\n",
        "  data=pd.concat([Y, x_scaled],axis=1)\n",
        "\n",
        "  # 利用分群結果將資料分成數群\n",
        "  for c in range(1,clusters+1):\n",
        "    locals()['group_'+str(c)]=data.loc[data['label']==c-1]\n",
        "    locals()['group_'+str(c)]=(locals()['group_'+str(c)]).drop(['label'],axis=1)\n",
        "\n",
        "  # 建模\n",
        "  for c in range(1,clusters+1):\n",
        "    x = locals()['group_'+str(c)].iloc[:,7:]\n",
        "    Y = locals()['group_'+str(c)].iloc[:,:6]\n",
        "    for i in range(0,6):\n",
        "      locals()['Y'+str(i+1)]=Y.iloc[:,i]\n",
        "      other_params = {\n",
        "          'boosting_type': 'gbdt',\n",
        "          'objective': 'regression',\n",
        "          'metric': 'rmse',\n",
        "          'n_estimators': 10,\n",
        "          'min_child_sample': 5,\n",
        "          'max_depth': 3,\n",
        "          'num_leaves': 5,\n",
        "          'reg_lambda': 0.1,\n",
        "          'learning_rate': 0.01\n",
        "      }\n",
        "      model = lgbm.LGBMRegressor(**other_params)\n",
        "      cv_params = {\n",
        "          'n_estimators': [10, 20, 30],\n",
        "          'min_child_sample': [3, 4, 5],\n",
        "          'max_depth': [2, 3],\n",
        "          'num_leaves': [3, 4, 5],\n",
        "          'reg_lambda': [0.02, 0.05, 0.1],\n",
        "          'learning_rate': [0.01, 0.03, 0.05]\n",
        "          }\n",
        "      optimized_model = GridSearchCV(\n",
        "          estimator=model,\n",
        "          param_grid=cv_params,\n",
        "          scoring='neg_mean_squared_error',\n",
        "          cv=3,\n",
        "          verbose=0)\n",
        "      optimized_model.fit(x,locals()['Y'+str(i+1)])\n",
        "      for key in optimized_model.best_params_:\n",
        "        other_params[key] = optimized_model.best_params_[key]\n",
        "\n",
        "      optimized_model = lgbm.LGBMRegressor(**other_params)\n",
        "      optimized_model.fit(x,locals()['Y'+str(i+1)])\n",
        "\n",
        "      locals()['LGBM_Y'+str(i+1)+'_Cluster_'+str(c)] = pd.DataFrame(optimized_model.predict(x))\n",
        "      final_model['Y'+str(i+1)+'_Cluster_'+str(c)] = optimized_model\n",
        "\n",
        "  # 整理預測結果\n",
        "  x = pd.DataFrame()\n",
        "  Y_prediction = pd.DataFrame()\n",
        "  for i in range(6):\n",
        "    locals()['LGBM_predictions_Y'+str(i+1)] = pd.DataFrame()\n",
        "    for c in range(1, clusters+1):\n",
        "      locals()['LGBM_predictions_Y'+str(i+1)] = pd.concat([locals()['LGBM_predictions_Y'+str(i+1)], locals()['LGBM_Y'+str(i+1)+'_Cluster_'+str(c)]],axis=0)\n",
        "    Y_prediction = pd.concat([Y_prediction, locals()['LGBM_predictions_Y'+str(i+1)]], axis=1)\n",
        "  Y_prediction.columns = ['Y1', 'Y2', 'Y3', 'Y4', 'Y5', 'Y6']\n",
        "\n",
        "  for c in range(1, clusters+1):\n",
        "    x = pd.concat([x, locals()['group_'+str(c)].iloc[:,6:]], axis=0)\n",
        "\n",
        "  Y_prediction.reset_index(drop=True, inplace = True)\n",
        "  x.reset_index(drop=True, inplace = True)\n",
        "  result = pd.concat([Y_prediction, x], axis=1)\n",
        "  prediction_result = result.sort_values(by=['index']).iloc[:, :6]\n",
        "\n",
        "  # 輸出\n",
        "  return final_model, prediction_result"
      ],
      "metadata": {
        "id": "Lh971iLzy78s"
      },
      "execution_count": null,
      "outputs": []
    },
    {
      "cell_type": "code",
      "source": [
        "final_model_lgbm6, train_prediction_result_lgbm6 = lgbm_model(train_x_scaled, y, 6, 123)"
      ],
      "metadata": {
        "id": "2JkSgm7JdgCs"
      },
      "execution_count": null,
      "outputs": []
    },
    {
      "cell_type": "code",
      "source": [
        "final_model_lgbm4, train_prediction_result_lgbm4 = lgbm_model(train_x_scaled, y, 4, 123)"
      ],
      "metadata": {
        "id": "0-dBWMhI4AeT"
      },
      "execution_count": null,
      "outputs": []
    },
    {
      "cell_type": "code",
      "source": [
        "def lgbm_predict(x_scaled, clusters, model):\n",
        "\n",
        "  # 分群\n",
        "  label=pd.DataFrame(globals()['kmeans_'+str(clusters)].predict(x_scaled.iloc[:,1:]))\n",
        "  label.columns=['label']\n",
        "  data=pd.concat([x_scaled,label],axis=1)\n",
        "\n",
        "  # 各群建模\n",
        "  for c in range(1,clusters+1): # 先拆成各群\n",
        "    globals()['(test)group_'+str(c)]=data.loc[data['label']==c-1]\n",
        "    globals()['(test)group_'+str(c)]=(globals()['(test)group_'+str(c)]).drop(['label'],axis=1) # 各群的X(包含index)\n",
        "    X_test=globals()['(test)group_'+str(c)].iloc[:,1:] # 不包含index\n",
        "    for i in range(0,6): # 在拆各個Y，並對每個Y建模\n",
        "      globals()['test_predictions_Y'+str(i+1)+'_Cluster_'+str(c)]=pd.DataFrame(model['Y'+str(i+1)+'_Cluster_'+str(c)].predict(X_test)) # 各群各個Y的fit值\n",
        "  # 合併各群的X\n",
        "  x=pd.DataFrame()\n",
        "  for c in range(1,clusters+1):\n",
        "    x=pd.concat([x,globals()['(test)group_'+str(c)]],axis=0) # 合併所有群的X(包含index)\n",
        "  # 合併各群的預測值Y\n",
        "  test_predict=pd.DataFrame()\n",
        "  for i in range(0,6):\n",
        "    globals()['(Test_prediction)lgbm_Y'+str(i+1)]=pd.DataFrame()\n",
        "    for c in range(1,clusters+1):\n",
        "      globals()['(Test_prediction)lgbm_Y'+str(i+1)]=pd.concat([globals()['(Test_prediction)lgbm_Y'+str(i+1)], globals()['test_predictions_Y'+str(i+1)+'_Cluster_'+str(c)]],axis=0)\n",
        "    test_predict = pd.concat([test_predict, globals()['(Test_prediction)lgbm_Y'+str(i+1)]], axis=1)\n",
        "  test_predict.columns = ['Y1', 'Y2', 'Y3', 'Y4', 'Y5', 'Y6']\n",
        "  # 合併預測值Y與X\n",
        "  test_predict.reset_index(drop=True, inplace = True)\n",
        "  x.reset_index(drop=True, inplace = True)\n",
        "  result = pd.concat([test_predict, x], axis=1)\n",
        "  test_prediction_result = result.sort_values(by=['index']).iloc[:, :6]\n",
        "  return test_prediction_result"
      ],
      "metadata": {
        "id": "DJUpBNC9wOW6"
      },
      "execution_count": null,
      "outputs": []
    },
    {
      "cell_type": "code",
      "source": [
        "test_prediction_result_lgbm4 = lgbm_predict(test_x_scaled, 4, final_model_lgbm4)"
      ],
      "metadata": {
        "id": "rdYO3vf02S8Q"
      },
      "execution_count": null,
      "outputs": []
    },
    {
      "cell_type": "code",
      "source": [
        "test_prediction_result_lgbm6 = lgbm_predict(test_x_scaled, 6, final_model_lgbm6)"
      ],
      "metadata": {
        "id": "0saqyDt32TOS"
      },
      "execution_count": null,
      "outputs": []
    },
    {
      "cell_type": "markdown",
      "source": [
        "# train資料預測結果合併"
      ],
      "metadata": {
        "id": "jaN2KTDiwYZq"
      }
    },
    {
      "cell_type": "code",
      "source": [
        "train_Y_prediction = np.array([])"
      ],
      "metadata": {
        "id": "IfOzJfL7lLJY"
      },
      "execution_count": null,
      "outputs": []
    },
    {
      "cell_type": "code",
      "source": [
        "for i in range(6):\n",
        "  if i == 0 or i == 4 or i == 5:\n",
        "    train_Y_prediction = np.append(train_Y_prediction,np.array(train_prediction_result_lgbm6.iloc[:, i]))\n",
        "  elif i == 1 or i == 3:\n",
        "    train_Y_prediction = np.append(train_Y_prediction,np.array(train_prediction_result_automl_c1.iloc[:, i]))\n",
        "  elif i == 2:\n",
        "    train_Y_prediction = np.append(train_Y_prediction,np.array(train_prediction_result_lgbm4.iloc[:, i]))"
      ],
      "metadata": {
        "id": "cTyXseiB4nSS"
      },
      "execution_count": null,
      "outputs": []
    },
    {
      "cell_type": "code",
      "source": [
        "train_Y_prediction=pd.DataFrame(np.transpose(train_Y_prediction.reshape(6,635)))\n",
        "train_Y_prediction.columns=['Y1', 'Y2', 'Y3', 'Y4', 'Y5', 'Y6']"
      ],
      "metadata": {
        "id": "q_ZJRVrUUK1H"
      },
      "execution_count": null,
      "outputs": []
    },
    {
      "cell_type": "code",
      "source": [
        "# 計算RMSE\n",
        "sum = 0\n",
        "for i in range(0,6):\n",
        "  RMSE = sklearn.metrics.mean_squared_error(train_Y_prediction.iloc[:, i], y.iloc[:, i],squared=False)\n",
        "  print('Y'+str(i+1)+' RMSE score', RMSE)\n",
        "  sum=sum+RMSE\n",
        "print('RMSE score',sum/6)"
      ],
      "metadata": {
        "colab": {
          "base_uri": "https://localhost:8080/"
        },
        "id": "epMJiK1bPDG-",
        "outputId": "7ad30089-ad27-4b72-8a13-6079b0b87bf1"
      },
      "execution_count": null,
      "outputs": [
        {
          "output_type": "stream",
          "name": "stdout",
          "text": [
            "Y1 RMSE score 8.711065857289856\n",
            "Y2 RMSE score 11.367351574988438\n",
            "Y3 RMSE score 19.250008736822885\n",
            "Y4 RMSE score 14.2315118028477\n",
            "Y5 RMSE score 13.487139197205128\n",
            "Y6 RMSE score 14.799731071270601\n",
            "RMSE score 13.641134706737434\n"
          ]
        }
      ]
    },
    {
      "cell_type": "markdown",
      "source": [
        "# test資料預測結果合併"
      ],
      "metadata": {
        "id": "YlX_BX6VFi9t"
      }
    },
    {
      "cell_type": "code",
      "source": [
        "test_Y_prediction = pd.DataFrame()"
      ],
      "metadata": {
        "id": "zdQ8S3udXGaY"
      },
      "execution_count": null,
      "outputs": []
    },
    {
      "cell_type": "code",
      "source": [
        "for i in range(6):\n",
        "  if i == 0 or i == 4 or i == 5:\n",
        "    test_Y_prediction = np.append(test_Y_prediction,np.array(test_prediction_result_lgbm6.iloc[:, i]))\n",
        "  elif i == 1 or i == 3:\n",
        "    test_Y_prediction = np.append(test_Y_prediction,np.array(test_prediction_result_automl_c1.iloc[:, i]))\n",
        "  elif i == 2:\n",
        "    test_Y_prediction = np.append(test_Y_prediction,np.array(test_prediction_result_lgbm4.iloc[:, i]))"
      ],
      "metadata": {
        "id": "SCj_vzkUXGaY"
      },
      "execution_count": null,
      "outputs": []
    },
    {
      "cell_type": "code",
      "source": [
        "test_Y_prediction=pd.DataFrame(np.transpose(test_Y_prediction.reshape(6,100)))\n",
        "test_Y_prediction.columns=['Y1', 'Y2', 'Y3', 'Y4', 'Y5', 'Y6']"
      ],
      "metadata": {
        "id": "L2GBSK7cXGaZ"
      },
      "execution_count": null,
      "outputs": []
    },
    {
      "cell_type": "code",
      "source": [
        "test_Y_prediction"
      ],
      "metadata": {
        "colab": {
          "base_uri": "https://localhost:8080/",
          "height": 424
        },
        "id": "2Jz1IStAXHj3",
        "outputId": "c40f5af5-4e87-4956-b6d7-f61fb1379fc3"
      },
      "execution_count": null,
      "outputs": [
        {
          "output_type": "execute_result",
          "data": {
            "text/plain": [
              "           Y1         Y2          Y3          Y4          Y5          Y6\n",
              "0   53.206897  69.930804   83.073765   40.148184   69.689655   63.896552\n",
              "1   53.206897  70.047991  107.540077   36.456063   69.689655   63.896552\n",
              "2   53.206897  73.757406  107.540077   37.424090   69.689655   63.896552\n",
              "3   77.198561  55.640552   85.978521   42.033407   62.831507   79.908411\n",
              "4   77.198561  55.640552   85.978521   42.033407   62.831507   79.908411\n",
              "..        ...        ...         ...         ...         ...         ...\n",
              "95  75.193856  64.535163   93.311121  103.381813   84.700699   93.286030\n",
              "96  75.218846  68.827935   92.020873   94.958838   84.700699   91.639695\n",
              "97  75.728371  66.760036   93.311121   98.381096   84.700699   91.639695\n",
              "98  72.953625  60.610259  112.559737  117.350147   97.468984   92.747926\n",
              "99  89.978372  92.441792  114.422790   99.982441  109.838345  101.616799\n",
              "\n",
              "[100 rows x 6 columns]"
            ],
            "text/html": [
              "\n",
              "  <div id=\"df-f275d4a3-bc24-4669-b1d3-26b56ba28b0a\">\n",
              "    <div class=\"colab-df-container\">\n",
              "      <div>\n",
              "<style scoped>\n",
              "    .dataframe tbody tr th:only-of-type {\n",
              "        vertical-align: middle;\n",
              "    }\n",
              "\n",
              "    .dataframe tbody tr th {\n",
              "        vertical-align: top;\n",
              "    }\n",
              "\n",
              "    .dataframe thead th {\n",
              "        text-align: right;\n",
              "    }\n",
              "</style>\n",
              "<table border=\"1\" class=\"dataframe\">\n",
              "  <thead>\n",
              "    <tr style=\"text-align: right;\">\n",
              "      <th></th>\n",
              "      <th>Y1</th>\n",
              "      <th>Y2</th>\n",
              "      <th>Y3</th>\n",
              "      <th>Y4</th>\n",
              "      <th>Y5</th>\n",
              "      <th>Y6</th>\n",
              "    </tr>\n",
              "  </thead>\n",
              "  <tbody>\n",
              "    <tr>\n",
              "      <th>0</th>\n",
              "      <td>53.206897</td>\n",
              "      <td>69.930804</td>\n",
              "      <td>83.073765</td>\n",
              "      <td>40.148184</td>\n",
              "      <td>69.689655</td>\n",
              "      <td>63.896552</td>\n",
              "    </tr>\n",
              "    <tr>\n",
              "      <th>1</th>\n",
              "      <td>53.206897</td>\n",
              "      <td>70.047991</td>\n",
              "      <td>107.540077</td>\n",
              "      <td>36.456063</td>\n",
              "      <td>69.689655</td>\n",
              "      <td>63.896552</td>\n",
              "    </tr>\n",
              "    <tr>\n",
              "      <th>2</th>\n",
              "      <td>53.206897</td>\n",
              "      <td>73.757406</td>\n",
              "      <td>107.540077</td>\n",
              "      <td>37.424090</td>\n",
              "      <td>69.689655</td>\n",
              "      <td>63.896552</td>\n",
              "    </tr>\n",
              "    <tr>\n",
              "      <th>3</th>\n",
              "      <td>77.198561</td>\n",
              "      <td>55.640552</td>\n",
              "      <td>85.978521</td>\n",
              "      <td>42.033407</td>\n",
              "      <td>62.831507</td>\n",
              "      <td>79.908411</td>\n",
              "    </tr>\n",
              "    <tr>\n",
              "      <th>4</th>\n",
              "      <td>77.198561</td>\n",
              "      <td>55.640552</td>\n",
              "      <td>85.978521</td>\n",
              "      <td>42.033407</td>\n",
              "      <td>62.831507</td>\n",
              "      <td>79.908411</td>\n",
              "    </tr>\n",
              "    <tr>\n",
              "      <th>...</th>\n",
              "      <td>...</td>\n",
              "      <td>...</td>\n",
              "      <td>...</td>\n",
              "      <td>...</td>\n",
              "      <td>...</td>\n",
              "      <td>...</td>\n",
              "    </tr>\n",
              "    <tr>\n",
              "      <th>95</th>\n",
              "      <td>75.193856</td>\n",
              "      <td>64.535163</td>\n",
              "      <td>93.311121</td>\n",
              "      <td>103.381813</td>\n",
              "      <td>84.700699</td>\n",
              "      <td>93.286030</td>\n",
              "    </tr>\n",
              "    <tr>\n",
              "      <th>96</th>\n",
              "      <td>75.218846</td>\n",
              "      <td>68.827935</td>\n",
              "      <td>92.020873</td>\n",
              "      <td>94.958838</td>\n",
              "      <td>84.700699</td>\n",
              "      <td>91.639695</td>\n",
              "    </tr>\n",
              "    <tr>\n",
              "      <th>97</th>\n",
              "      <td>75.728371</td>\n",
              "      <td>66.760036</td>\n",
              "      <td>93.311121</td>\n",
              "      <td>98.381096</td>\n",
              "      <td>84.700699</td>\n",
              "      <td>91.639695</td>\n",
              "    </tr>\n",
              "    <tr>\n",
              "      <th>98</th>\n",
              "      <td>72.953625</td>\n",
              "      <td>60.610259</td>\n",
              "      <td>112.559737</td>\n",
              "      <td>117.350147</td>\n",
              "      <td>97.468984</td>\n",
              "      <td>92.747926</td>\n",
              "    </tr>\n",
              "    <tr>\n",
              "      <th>99</th>\n",
              "      <td>89.978372</td>\n",
              "      <td>92.441792</td>\n",
              "      <td>114.422790</td>\n",
              "      <td>99.982441</td>\n",
              "      <td>109.838345</td>\n",
              "      <td>101.616799</td>\n",
              "    </tr>\n",
              "  </tbody>\n",
              "</table>\n",
              "<p>100 rows × 6 columns</p>\n",
              "</div>\n",
              "      <button class=\"colab-df-convert\" onclick=\"convertToInteractive('df-f275d4a3-bc24-4669-b1d3-26b56ba28b0a')\"\n",
              "              title=\"Convert this dataframe to an interactive table.\"\n",
              "              style=\"display:none;\">\n",
              "        \n",
              "  <svg xmlns=\"http://www.w3.org/2000/svg\" height=\"24px\"viewBox=\"0 0 24 24\"\n",
              "       width=\"24px\">\n",
              "    <path d=\"M0 0h24v24H0V0z\" fill=\"none\"/>\n",
              "    <path d=\"M18.56 5.44l.94 2.06.94-2.06 2.06-.94-2.06-.94-.94-2.06-.94 2.06-2.06.94zm-11 1L8.5 8.5l.94-2.06 2.06-.94-2.06-.94L8.5 2.5l-.94 2.06-2.06.94zm10 10l.94 2.06.94-2.06 2.06-.94-2.06-.94-.94-2.06-.94 2.06-2.06.94z\"/><path d=\"M17.41 7.96l-1.37-1.37c-.4-.4-.92-.59-1.43-.59-.52 0-1.04.2-1.43.59L10.3 9.45l-7.72 7.72c-.78.78-.78 2.05 0 2.83L4 21.41c.39.39.9.59 1.41.59.51 0 1.02-.2 1.41-.59l7.78-7.78 2.81-2.81c.8-.78.8-2.07 0-2.86zM5.41 20L4 18.59l7.72-7.72 1.47 1.35L5.41 20z\"/>\n",
              "  </svg>\n",
              "      </button>\n",
              "      \n",
              "  <style>\n",
              "    .colab-df-container {\n",
              "      display:flex;\n",
              "      flex-wrap:wrap;\n",
              "      gap: 12px;\n",
              "    }\n",
              "\n",
              "    .colab-df-convert {\n",
              "      background-color: #E8F0FE;\n",
              "      border: none;\n",
              "      border-radius: 50%;\n",
              "      cursor: pointer;\n",
              "      display: none;\n",
              "      fill: #1967D2;\n",
              "      height: 32px;\n",
              "      padding: 0 0 0 0;\n",
              "      width: 32px;\n",
              "    }\n",
              "\n",
              "    .colab-df-convert:hover {\n",
              "      background-color: #E2EBFA;\n",
              "      box-shadow: 0px 1px 2px rgba(60, 64, 67, 0.3), 0px 1px 3px 1px rgba(60, 64, 67, 0.15);\n",
              "      fill: #174EA6;\n",
              "    }\n",
              "\n",
              "    [theme=dark] .colab-df-convert {\n",
              "      background-color: #3B4455;\n",
              "      fill: #D2E3FC;\n",
              "    }\n",
              "\n",
              "    [theme=dark] .colab-df-convert:hover {\n",
              "      background-color: #434B5C;\n",
              "      box-shadow: 0px 1px 3px 1px rgba(0, 0, 0, 0.15);\n",
              "      filter: drop-shadow(0px 1px 2px rgba(0, 0, 0, 0.3));\n",
              "      fill: #FFFFFF;\n",
              "    }\n",
              "  </style>\n",
              "\n",
              "      <script>\n",
              "        const buttonEl =\n",
              "          document.querySelector('#df-f275d4a3-bc24-4669-b1d3-26b56ba28b0a button.colab-df-convert');\n",
              "        buttonEl.style.display =\n",
              "          google.colab.kernel.accessAllowed ? 'block' : 'none';\n",
              "\n",
              "        async function convertToInteractive(key) {\n",
              "          const element = document.querySelector('#df-f275d4a3-bc24-4669-b1d3-26b56ba28b0a');\n",
              "          const dataTable =\n",
              "            await google.colab.kernel.invokeFunction('convertToInteractive',\n",
              "                                                     [key], {});\n",
              "          if (!dataTable) return;\n",
              "\n",
              "          const docLinkHtml = 'Like what you see? Visit the ' +\n",
              "            '<a target=\"_blank\" href=https://colab.research.google.com/notebooks/data_table.ipynb>data table notebook</a>'\n",
              "            + ' to learn more about interactive tables.';\n",
              "          element.innerHTML = '';\n",
              "          dataTable['output_type'] = 'display_data';\n",
              "          await google.colab.output.renderOutput(dataTable, element);\n",
              "          const docLink = document.createElement('div');\n",
              "          docLink.innerHTML = docLinkHtml;\n",
              "          element.appendChild(docLink);\n",
              "        }\n",
              "      </script>\n",
              "    </div>\n",
              "  </div>\n",
              "  "
            ]
          },
          "metadata": {},
          "execution_count": 185
        }
      ]
    },
    {
      "cell_type": "markdown",
      "source": [
        "存成CSV檔"
      ],
      "metadata": {
        "id": "tznrfkR0eEDr"
      }
    },
    {
      "cell_type": "code",
      "source": [
        "from pathlib import Path\n",
        "filepath = Path('C:/Users/user/Desktop/Wu-SPC/test_result.csv')\n",
        "filepath.parent.mkdir(parents=True, exist_ok=True)\n",
        "test_Y_prediction.to_csv(filepath)"
      ],
      "metadata": {
        "id": "aPxIdEc3YIQ_"
      },
      "execution_count": null,
      "outputs": []
    },
    {
      "cell_type": "code",
      "source": [],
      "metadata": {
        "id": "nRGbv7nmYR3N"
      },
      "execution_count": null,
      "outputs": []
    }
  ]
}